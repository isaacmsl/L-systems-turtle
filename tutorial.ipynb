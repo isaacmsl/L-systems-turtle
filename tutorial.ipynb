{
 "cells": [
  {
   "cell_type": "markdown",
   "metadata": {},
   "source": [
    "### Tutorial de uso do pacote `lsdm`\n",
    "\n",
    "---\n",
    "\n",
    "O pacote nos fornece a classe `LSystemDrawerMenager`, que encapsula as funcionalidades principais do nosso projeto, que são:\n",
    "\n",
    "- Verificar se uma cadeia pode ser gerada por um **L-System** em **n** iterações.\n",
    "- Receber um **L-System** e uma certa quantidade de iterações, permitindo desenhar uma representação do **L-System**."
   ]
  },
  {
   "cell_type": "markdown",
   "metadata": {},
   "source": [
    "##### Exmplos de uso"
   ]
  },
  {
   "cell_type": "markdown",
   "metadata": {},
   "source": [
    "##### Verificando se cadeia pode ser exrita por uma **l-system**"
   ]
  },
  {
   "cell_type": "code",
   "execution_count": null,
   "metadata": {},
   "outputs": [],
   "source": [
    "from lsdm import LSystemDrawerMenager\n",
    "lsdm = LSystemDrawerMenager()\n",
    "# caminho até o arquivo onde a l-system foi especificada\n",
    "file = \"./input_files/in14.txt\"\n",
    "# carregando l-system\n",
    "lsdm.read(file)\n",
    "# Vericando se podemos escrever a cadeia com 2 iterações\n",
    "iterations = 2\n",
    "sequence = 'dLL+++1[[dL+++1[[X---j]0++X]0L[c0--LX]1X---j]0++dL+++1[[X---j]0++X]0L[c0--LX]1X]0LL[c0--LLdL+++1[[X---j]0++X]0L[c0--LX]1X]1dL+++1[[X---j]0++X]0L[c0--LX]1X'\n",
    "sequence_to_fail = sequence + 'x'\n",
    "\n",
    "if lsdm.check(iterations, sequence):\n",
    "    print(f\"String: {sequence}\")\n",
    "    print(f\"Pode ser gerada com {iterations} iterações pela linguagem descrita em {file} com {iterations} iterações\")\n",
    "else:\n",
    "    print(f\"String: {sequence}\")\n",
    "    print(f\" NÃO Pode ser gerada com {iterations} iterações pela linguagem descrita em {file}\")"
   ]
  },
  {
   "cell_type": "markdown",
   "metadata": {},
   "source": [
    "##### Desenhar uma representação de uma **l-system**"
   ]
  },
  {
   "cell_type": "code",
   "execution_count": null,
   "metadata": {},
   "outputs": [],
   "source": [
    "from lsdm import LSystemDrawerMenager\n",
    "lsdm = LSystemDrawerMenager()\n",
    "# caminho até o arquivo onde a l-system foi especificada\n",
    "file = \"./input_files/in14.txt\"\n",
    "# carregando l-system\n",
    "lsdm.read(file)\n",
    "# gerando cadeia\n",
    "iterations = 4\n",
    "sequence = lsdm.generate(iterations)\n",
    "print(f\"Cadeia gerada pela l-system especificada em {file} com {iterations} iterações\")\n",
    "print(sequence)"
   ]
  },
  {
   "cell_type": "markdown",
   "metadata": {},
   "source": [
    "Desenhar uma representaçäo da cadeia gerada"
   ]
  },
  {
   "cell_type": "code",
   "execution_count": null,
   "metadata": {},
   "outputs": [],
   "source": [
    "try:\n",
    "    lsdm.draw(True)\n",
    "except:\n",
    "    pass"
   ]
  }
 ],
 "metadata": {
  "kernelspec": {
   "display_name": "base",
   "language": "python",
   "name": "python3"
  },
  "language_info": {
   "codemirror_mode": {
    "name": "ipython",
    "version": 3
   },
   "file_extension": ".py",
   "mimetype": "text/x-python",
   "name": "python",
   "nbconvert_exporter": "python",
   "pygments_lexer": "ipython3",
   "version": "3.10.9"
  }
 },
 "nbformat": 4,
 "nbformat_minor": 2
}
