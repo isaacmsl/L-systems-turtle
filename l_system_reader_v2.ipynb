{
 "cells": [
  {
   "cell_type": "code",
   "execution_count": 3,
   "metadata": {},
   "outputs": [],
   "source": [
    "class stack_automato:\n",
    "    def __init__(self,alfabeto, regras, inicial):\n",
    "        self.alfabeto = alfabeto\n",
    "        self.regras = regras\n",
    "        self.inicial = inicial\n",
    "        self.stack = [inicial]\n",
    "        self.current_state = inicial\n",
    "    # determinar se o caracter é aceitavel\n",
    "    def is_aceptible(self,char):\n",
    "        index = 0\n",
    "        temp = [0]+[char in i for i in self.regras[self.current_state]]\n",
    "        index = temp.index(True)\n",
    "        return bool(index), index\n",
    "    \n",
    "    # aceitar caracter\n",
    "    def acept(self,char):\n",
    "        b, index = self.is_aceptible(char)\n",
    "        if b:\n",
    "            stack_idx = self.stack.index(self.current_state)\n",
    "            self.stack = self.stack[:stack_idx]+[i for i in self.regras[self.current_state][index]][::-1]+[]\n",
    "\n",
    "\n",
    "    # mudar de estado\n",
    "    def change_state(self):\n",
    "        self.current_state = [i for i in self.stack if i in list(self.regras.keys())][-1]\n",
    "\n",
    "    # stack começa com somente o estado inicial\n",
    "    def atualizar_stack(self,c):\n",
    "        index = self.stack.index(self.current_state)\n",
    "        new = [i for i in self.regras[self.current_state] if c in i][0]\n",
    "        if len(new) == 0 and \"\" in self.regras[self.current_state]:\n",
    "            new = [\"\"]\n",
    "        new = [x for x in new][::-1]\n",
    "        new_state = [i for i in new if i in self.regras.keys()]\n",
    "        if len(new_state)>0:\n",
    "            self.current_state = new_state[0]\n",
    "        self.stack = self.stack[:index] + new +self.stack[index+1:]\n",
    "\n",
    "    def check(self,word):\n",
    "        word = [c for c in word]\n",
    "        curr_state = self.inicial\n",
    "        print(f\"{self.stack} -----> {word}\")\n",
    "        while len(word)>0:\n",
    "            self.atualizar_stack(word[0])\n",
    "            print(f\"{self.stack} -----> {word}\")\n",
    "            if word[0] in self.stack:\n",
    "                del word[0]\n",
    "                del self.stack[-1]\n",
    "            else:\n",
    "                return False\n",
    "            if len(word) == 0 and \"\" in self.regras[self.current_state] and len(self.stack)>0:\n",
    "                del self.stack[-1]\n",
    "            print(f\"{self.stack} -----> {word}\")\n",
    "        if len(self.stack)>0:\n",
    "            return False\n",
    "        return True\n",
    "    def reset(self):\n",
    "        self.stack = [self.inicial]\n",
    "        self.current_state = self.inicial"
   ]
  },
  {
   "cell_type": "code",
   "execution_count": null,
   "metadata": {},
   "outputs": [
    {
     "data": {
      "text/plain": [
       "True"
      ]
     },
     "execution_count": 7,
     "metadata": {},
     "output_type": "execute_result"
    }
   ],
   "source": []
  },
  {
   "cell_type": "code",
   "execution_count": 8,
   "metadata": {},
   "outputs": [
    {
     "name": "stdout",
     "output_type": "stream",
     "text": [
      "['A'] -----> ['a', 'a', 'a', 'a', 'a', 'a', 'b', 'c']\n",
      "['A', 'a'] -----> ['a', 'a', 'a', 'a', 'a', 'a', 'b', 'c']\n",
      "['A'] -----> ['a', 'a', 'a', 'a', 'a', 'b', 'c']\n",
      "['A', 'a'] -----> ['a', 'a', 'a', 'a', 'a', 'b', 'c']\n",
      "['A'] -----> ['a', 'a', 'a', 'a', 'b', 'c']\n",
      "['A', 'a'] -----> ['a', 'a', 'a', 'a', 'b', 'c']\n",
      "['A'] -----> ['a', 'a', 'a', 'b', 'c']\n",
      "['A', 'a'] -----> ['a', 'a', 'a', 'b', 'c']\n",
      "['A'] -----> ['a', 'a', 'b', 'c']\n",
      "['A', 'a'] -----> ['a', 'a', 'b', 'c']\n",
      "['A'] -----> ['a', 'b', 'c']\n",
      "['A', 'a'] -----> ['a', 'b', 'c']\n",
      "['A'] -----> ['b', 'c']\n",
      "['B', 'b'] -----> ['b', 'c']\n",
      "['B'] -----> ['c']\n",
      "['c'] -----> ['c']\n",
      "[] -----> []\n"
     ]
    },
    {
     "data": {
      "text/plain": [
       "True"
      ]
     },
     "execution_count": 8,
     "metadata": {},
     "output_type": "execute_result"
    }
   ],
   "source": [
    "regras = {\"A\":[\"aA\",\"bB\"],\"B\":[\"c\",\"\"]}\n",
    "inicial = \"A\"\n",
    "s = \"aaaaaabc\"\n",
    "auto = stack_automato(\"A\",regras,inicial)\n",
    "auto.check(s)"
   ]
  },
  {
   "cell_type": "code",
   "execution_count": 7,
   "metadata": {},
   "outputs": [
    {
     "name": "stdout",
     "output_type": "stream",
     "text": [
      "['B', 'b', 'a']\n"
     ]
    }
   ],
   "source": [
    "auto.atualizar_stack(\"b\")"
   ]
  },
  {
   "cell_type": "code",
   "execution_count": 4,
   "metadata": {},
   "outputs": [
    {
     "data": {
      "text/plain": [
       "[]"
      ]
     },
     "execution_count": 4,
     "metadata": {},
     "output_type": "execute_result"
    }
   ],
   "source": [
    "lista = [1,2,3]\n",
    "lista[4:]"
   ]
  },
  {
   "cell_type": "code",
   "execution_count": null,
   "metadata": {},
   "outputs": [],
   "source": []
  }
 ],
 "metadata": {
  "kernelspec": {
   "display_name": "base",
   "language": "python",
   "name": "python3"
  },
  "language_info": {
   "codemirror_mode": {
    "name": "ipython",
    "version": 3
   },
   "file_extension": ".py",
   "mimetype": "text/x-python",
   "name": "python",
   "nbconvert_exporter": "python",
   "pygments_lexer": "ipython3",
   "version": "3.8.8"
  }
 },
 "nbformat": 4,
 "nbformat_minor": 2
}
